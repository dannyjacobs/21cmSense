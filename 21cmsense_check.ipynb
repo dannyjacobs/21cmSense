{
 "cells": [
  {
   "cell_type": "code",
   "execution_count": null,
   "metadata": {
    "collapsed": true
   },
   "outputs": [],
   "source": [
    "#Numbers to keep in mind\n",
    "#The Ali results:  \n",
    "#  \\Delta^2 (k=0.2) = 400 mK^2 #2sigma\n",
    "#  \\Delta^2_sensitivity (k=0.2) = 300 mK^2 #2sigma"
   ]
  },
  {
   "cell_type": "code",
   "execution_count": 1,
   "metadata": {
    "collapsed": true
   },
   "outputs": [],
   "source": [
    "%matplotlib inline\n",
    "import numpy as np\n",
    "from pylab import *"
   ]
  },
  {
   "cell_type": "code",
   "execution_count": 46,
   "metadata": {
    "collapsed": true
   },
   "outputs": [],
   "source": [
    "class Sense(object):\n",
    "    def __init__(self):\n",
    "        self.Tsys = 0 #mK!\n",
    "        #self.Omega_eff = 1.7 #Ali et al (taken from Zaki's evernote)\n",
    "        self.Omega_eff = 3.5 #recalculation with capo/dcj/scripts/beam_integral.py\n",
    "        self.t_int = 0\n",
    "        self.Npols = 2\n",
    "        self.X2Y = 518  #150MHz\n",
    "        self.Ndays = 0\n",
    "        self.Nlstbins = 0\n",
    "        self.Nbls = 0\n",
    "        self.P_N = None\n",
    "        self.Nseps = 0\n",
    "        return\n",
    "    def calc(self):\n",
    "        self.P_N = self.X2Y * self.Omega_eff * self.Tsys**2 \n",
    "        self.P_N /=(self.t_int * self.Ndays * self.Nbls * self.Npols * np.sqrt(self.Nlstbins))\n",
    "        self.P_N /= np.sqrt(2) #fold in k//\n",
    "        self.P_N /= np.sqrt(self.Nseps)\n",
    "    def Delta2_N(self,k):\n",
    "        if self.P_N is None: print(\"noise undefined until first Sense.calc()\"); return 0\n",
    "        return self.P_N * k**3/(2*np.pi**2)"
   ]
  },
  {
   "cell_type": "code",
   "execution_count": 47,
   "metadata": {
    "collapsed": false
   },
   "outputs": [
    {
     "name": "stdout",
     "output_type": "stream",
     "text": [
      "\\Delta^2(k=0.2) =  2390.34034583\n"
     ]
    }
   ],
   "source": [
    "S = Sense()\n",
    "S.Tsys = 551e3  #set to match 21cmsense exactly \n",
    "#S.Tsys = 486e3 #(200K + 180(150/180)^-2.55)\n",
    "#S.Tsys = 505e3 #Ali et al, at 164MHz\n",
    "S.t_int = 3414 # python ~/scripts/frf_diagnose.py -C psa6240_v003 --seps=0,1 -pxx; returns T_eff = 3414s (NEBW)\n",
    "S.Ndays = 65\n",
    "S.Nlstbins = 8.5\n",
    "S.Nbls = 51\n",
    "S.Nseps = 1\n",
    "S.calc()\n",
    "print \"\\Delta^2(k=0.2) = \",S.Delta2_N(0.2)"
   ]
  },
  {
   "cell_type": "code",
   "execution_count": 90,
   "metadata": {
    "collapsed": true
   },
   "outputs": [
    {
     "name": "stdout",
     "output_type": "stream",
     "text": [
      "['name', 'uv_coverage_pess', 'uv_coverage', 'Trx', 'dish_size_in_lambda', 't_int', 'obs_duration']\n",
      "1400.0\n"
     ]
    },
    {
     "data": {
      "image/png": "[encoded data removed]",
      "text/plain": [
       "<matplotlib.figure.Figure at 0x10e7b8110>"
      ]
     },
     "metadata": {},
     "output_type": "display_data"
    }
   ],
   "source": [
    "#take a look at the uv coverage in 21cmsense, verify that we're only simulating a single baseline\n",
    "C = np.load('psa6240_v003.drift_blmin0_blmax23_arrayfile.npz')\n",
    "print C.files\n",
    "imshow(C['uv_coverage'])\n",
    "print C['uv_coverage'].max()"
   ]
  },
  {
   "cell_type": "code",
   "execution_count": 92,
   "metadata": {
    "collapsed": false
   },
   "outputs": [
    {
     "name": "stdout",
     "output_type": "stream",
     "text": [
      "k= 0.202313817753\n",
      "\\Delta^2(k=0.2) =  4485.99520739\n"
     ]
    }
   ],
   "source": [
    "#load the 21cmsense calculation whichshould nominally match\n",
    "# /Users/djacobs/Work/radio_astronomy/Papers/psa64_multiz/data/21cmSense\n",
    "# ./mk_array_file.py -C psa6240_v003 --bl_max=45\n",
    "# ./calc_sense.py  --nchan=21 --bwidth=0.010 --n_per_day=8.5 --ndays=65  -f 0.150 --no_ns psa6240_v003drift_blmin0_blmax23_arrayfile.npz -m pess\n",
    "#     'dish_size_in_lambda' : 0.82, #in units of wavelengths, effective dish size calculated with capo/dcj/scripts/beam_integral.py\n",
    "#     'Trx' : 200e3, #receiver temp in mK\n",
    "F = np.load('psa6240_v003drift_pess_0.150.npz')\n",
    "print \"k=\",F['ks'][3]\n",
    "print \"\\Delta^2(k=0.2) = \",F['T_errs'][3]"
   ]
  },
  {
   "cell_type": "code",
   "execution_count": 45,
   "metadata": {
    "collapsed": false
   },
   "outputs": [
    {
     "name": "stdout",
     "output_type": "stream",
     "text": [
      "k =  0.197972071238\n",
      "\\Delta^2(k=0.2) =  4684.94751642\n"
     ]
    }
   ],
   "source": [
    "#load a power spectrum of a noise realization\n",
    "# this realization assumes a Tsky+Trcvr model for noise, \n",
    "# takes into account the known lstbinning counts of the psa64 run\n",
    "# it is filtered with frscale of 1.2, frwidth of 1.3 and maxfr=0.0013 (basically optimal but slightly tweaked)\n",
    "# here I am using the 95% limit of the injected signal \n",
    "P = np.load('pspec_limits_k3pk_pI_95.npz')\n",
    "print \"k = \",P['k'][4]\n",
    "print \"\\Delta^2(k=0.2) = \",P['k3err'][4]"
   ]
  }
 ],
 "metadata": {
  "kernelspec": {
   "display_name": "Python 2",
   "language": "python",
   "name": "python2"
  },
  "language_info": {
   "codemirror_mode": {
    "name": "ipython",
    "version": 2
   },
   "file_extension": ".py",
   "mimetype": "text/x-python",
   "name": "python",
   "nbconvert_exporter": "python",
   "pygments_lexer": "ipython2",
   "version": "2.7.12"
  }
 },
 "nbformat": 4,
 "nbformat_minor": 0
}
