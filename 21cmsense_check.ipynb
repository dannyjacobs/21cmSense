{
 "cells": [
  {
   "cell_type": "code",
   "execution_count": null,
   "metadata": {
    "collapsed": true
   },
   "outputs": [],
   "source": [
    "#In this worksheet we're checking and comparing various estimates of sensitivity\n",
    "# psa32 Parsons sensitivity (analytic)\n",
    "#  1.5e3mK^2   @ k=0.3, z=7.7 \n",
    "# psa64 Ali sensitivity (analytic) :  \n",
    "#  0.9e3 mK^2 @ k=0.3, z=8.4\n",
    "# psa64 Jacobs sensitivity (21cmsense):\n",
    "#  5e3 mK^2 @ k=0.3, z=8.4\n",
    "\n",
    "#comparing 21cmsense against analytic\n",
    "# 21cmsense 8295 mk^2 #2sigma, 3bls\n",
    "# setting analytic to match 21cmsense: 3050 mk^2 #2sigma, 3bls\n",
    "# fractional difference of x2.7\n",
    "\n",
    "#comparing noise realization against analytic\n",
    "# noise 10051 mK^2 #85% (2sigma ish), 3bls\n",
    "# analytic 544 mK^2 # sigma, 3bls\n",
    "\n"
   ]
  },
  {
   "cell_type": "code",
   "execution_count": 2,
   "metadata": {
    "collapsed": true
   },
   "outputs": [],
   "source": [
    "%matplotlib inline\n",
    "import numpy as np\n",
    "from pylab import *"
   ]
  },
  {
   "cell_type": "code",
   "execution_count": 190,
   "metadata": {
    "collapsed": false
   },
   "outputs": [
    {
     "name": "stdout",
     "output_type": "stream",
     "text": [
      "X2Y =  515.138214473\n",
      "Omega_eff as used to convert visibilities in mK to Pk: 1.69134622694\n"
     ]
    }
   ],
   "source": [
    "import capo\n",
    "print \"X2Y = \",capo.pspec.X2Y(8.4)/1e9\n",
    "print \"Omega_eff as used to convert visibilities in mK to Pk:\",np.polyval(capo.pspec.DEFAULT_BEAM_POLY,0.151)*2.35 "
   ]
  },
  {
   "cell_type": "code",
   "execution_count": 285,
   "metadata": {
    "collapsed": true
   },
   "outputs": [],
   "source": [
    "class Sense(object):\n",
    "    def __init__(self):\n",
    "        self.Tsys = 0 #mK!\n",
    "        #self.Omega_eff = 1.7 #Ali et al (taken from Zaki's evernote)\n",
    "        self.Omega_eff = 1.74 #recalculation with capo/dcj/scripts/beam_integral.py  Omega_p^2/Omega_pp, per Appendix B of Parsons psa32 \n",
    "        #check for FRF effective beam.\n",
    "        #self.Omega_eff = 0.51**2/0.24  #effective beams if using FRF, taken from Table 1 of Parsons 2015 \"beam sculpting paper\"\n",
    "        self.t_int = 0\n",
    "        self.Npols = 2\n",
    "        self.X2Y = 515  #z=8.4\n",
    "        self.Ndays = 0\n",
    "        self.Nlsthours = 0\n",
    "        self.Nbls = 0\n",
    "        self.P_N = None\n",
    "        self.Nseps = 0\n",
    "        self.Nreal = 2\n",
    "        self.Nlstbins = None\n",
    "        self.Nblgroups = 5\n",
    "        return\n",
    "    def calc(self):\n",
    "        if self.Nlstbins is None: self.Nlstbins = self.Nlsthours*3600/self.t_int\n",
    "        Nb = (self.Nbls/self.Nblgroups)\n",
    "        self.bl_eff = Nb * np.sqrt((self.Nblgroups**2 - self.Nblgroups)/2)\n",
    "        self.P_N = self.X2Y * self.Omega_eff * self.Tsys**2 \n",
    "        self.P_N /=(np.sqrt(self.Nreal)*self.t_int * self.Ndays * self.bl_eff * self.Npols * np.sqrt(self.Nlstbins))\n",
    "        self.P_N /= np.sqrt(2) #fold in k//\n",
    "        self.P_N /= np.sqrt(self.Nseps)\n",
    "    def Delta2_N(self,k):\n",
    "        if self.P_N is None: print(\"noise undefined until first Sense.calc()\"); return 0\n",
    "        return self.P_N * k**3/(2*np.pi**2)"
   ]
  },
  {
   "cell_type": "code",
   "execution_count": 266,
   "metadata": {
    "collapsed": false
   },
   "outputs": [
    {
     "name": "stdout",
     "output_type": "stream",
     "text": [
      "\\Delta^2(k=0.2) =  1627.53360016\n",
      "Pk =  594930.103075\n"
     ]
    }
   ],
   "source": [
    "S = Sense()\n",
    "#S.Tsys = 551e3  #set to match 21cmsense exactly \n",
    "#S.Tsys = 486e3 #(200K + 180(150/180)^-2.55)\n",
    "S.Tsys = 505e3 #Ali et al, at 164MHz\n",
    "S.t_int = 3414 # python ~/scripts/frf_diagnose.py -C psa6240_v003 --seps=0,1 -pxx; returns T_eff = 3414s (NEBW)\n",
    "#S.t_int = 440   # approximate longest time possible for 30m bl without frf, \n",
    "#                t_int=440 is taken from Table 1 of Parsons 2015, beam paper, roughly matches the uv bin occupation time in 21cmsense\n",
    "S.Ndays = 65\n",
    "#S.Nlsthours = 8.5\n",
    "S.Nlstbins = 9\n",
    "S.Nbls = 51\n",
    "S.Nseps = 1\n",
    "S.calc()\n",
    "print \"\\Delta^2(k=0.2) = \",S.Delta2_N(0.3)*2 #2sigma\n",
    "print \"Pk = \",S.P_N\n"
   ]
  },
  {
   "cell_type": "code",
   "execution_count": 158,
   "metadata": {
    "collapsed": false
   },
   "outputs": [
    {
     "name": "stdout",
     "output_type": "stream",
     "text": [
      "0.82\n",
      "number of seconds in the best sampled uv pixel 443.257881599\n",
      "number of pixels like this 6\n",
      "the length of the observation is  1.4578259217 hours\n",
      "number of independent modes =  19.0\n",
      "assuming we want 9 LST hours, n_per_day should be 6.17357660199\n"
     ]
    },
    {
     "data": {
      "image/png": "[encoded data removed]",
      "text/plain": [
       "<matplotlib.figure.Figure at 0x1133bdd50>"
      ]
     },
     "metadata": {},
     "output_type": "display_data"
    }
   ],
   "source": [
    "#take a look at the uv coverage in 21cmsense, verify that we're only simulating a single baseline\n",
    "C = np.load('psa6240_v003drift_blmin0_blmax23_arrayfile.npz')\n",
    "print C['dish_size_in_lambda']\n",
    "imshow(C['uv_coverage'],interpolation='nearest')\n",
    "colorbar()\n",
    "print \"number of seconds in the best sampled uv pixel\", C['uv_coverage'].max()*60/65/np.sqrt(8.5)\n",
    "cnt = C['uv_coverage']*60/65/np.sqrt(8.5)\n",
    "print \"number of pixels like this\",np.sum(cnt>442)\n",
    "print \"the length of the observation is \",np.sum(cnt)/2/3600,\"hours\"\n",
    "print 'number of independent modes = ',np.sum(cnt>1)/2.\n",
    "print \"assuming we want 9 LST hours, n_per_day should be\", 9/(np.sum(cnt)/2/3600)\n"
   ]
  },
  {
   "cell_type": "code",
   "execution_count": 179,
   "metadata": {
    "collapsed": false
   },
   "outputs": [
    {
     "name": "stdout",
     "output_type": "stream",
     "text": [
      "k= 0.303470726629\n",
      "\\Delta^2(k=0.3) =  7183.71610155\n",
      "scaled to match Zaki, 8295.04085002\n"
     ]
    }
   ],
   "source": [
    "#load the 21cmsense calculation whichshould nominally match\n",
    "# /Users/djacobs/Work/radio_astronomy/Papers/psa64_multiz/data/21cmSense\n",
    "# ./mk_array_file.py -C psa6240_v003 --bl_max=45  #NB this mk_array is hacked to exclude all but 0,1EW bls\n",
    "# ./calc_sense.py  --nchan=21 --bwidth=0.010 --n_per_day=6.17 --ndays=65  -f 0.150 --no_ns psa6240_v003drift_blmin0_blmax23_arrayfile.npz -m pess\n",
    "#     'dish_size_in_lambda' : 0.87, #in units of wavelengths, effective dish size calculated with capo/dcj/scripts/beam_integral.py\n",
    "#     'Trx' : 200e3, #receiver temp in mK\n",
    "#      n_per_day :  estimated by calculating the length of the track to be 1.5 hours (looking at the uv plane above) \n",
    "#                   and a desired total of 8.5 hours\n",
    "F = np.load('psa6240_v003drift_pess_0.150.npz')\n",
    "print \"k=\",F['ks'][5]\n",
    "print \"\\Delta^2(k=0.3) = \",F['T_errs'][5]\n",
    "print \"scaled to match Zaki,\",F['T_errs'][5]/np.sqrt(3)*2 #scaled from 1 to 3 bls and 2 sigma"
   ]
  },
  {
   "cell_type": "code",
   "execution_count": 287,
   "metadata": {
    "collapsed": false
   },
   "outputs": [
    {
     "name": "stdout",
     "output_type": "stream",
     "text": [
      "k =  0.295892574198\n",
      "\\Delta^2(k=0.3) =  10051.0414384\n"
     ]
    }
   ],
   "source": [
    "#noise realization simulation of the psa64 lstbinned data set\n",
    "# includes rcvr and sky noise accounting for number of samples in each 43s lst bin\n",
    "#NB: this uses the FRF which has a larger effective integration constant\n",
    "#   it should should be _lower_ than the 21cmsense and analytic calculation \n",
    "P = np.load('pspec_final_confidence_85.npz')\n",
    "Delta2_noise_realization = P['pI_fold_up']/np.sqrt(3)  #scaled from 1 to 3 bls and Omega_eff corrected to comply with psa32 appendix B\n",
    "noise_realization_k = P['k']\n",
    "print \"k = \",noise_realization_k[6]\n",
    "print \"\\Delta^2(k=0.3) = \",Delta2_noise_realization[6] "
   ]
  },
  {
   "cell_type": "code",
   "execution_count": 240,
   "metadata": {
    "collapsed": false
   },
   "outputs": [
    {
     "data": {
      "image/png": "[encoded data removed]",
      "text/plain": [
       "<matplotlib.figure.Figure at 0x113426450>"
      ]
     },
     "metadata": {},
     "output_type": "display_data"
    }
   ],
   "source": [
    "#plot a comparison between the noise run and the 21cmsense run\n",
    "#all plotted as 2 sigma for 3 seperations\n",
    "#goal is for everyone to match the 21cmsense\n",
    "semilogy(F['ks'],F['T_errs']/np.sqrt(3)*2,label='21cmsense')\n",
    "k = np.linspace(0.1,0.5)\n",
    "semilogy(k,S.Delta2_N(k)*2,label='analytic')\n",
    "legend(loc='best')\n",
    "ylim(1e2,1e5)\n",
    "grid()"
   ]
  },
  {
   "cell_type": "code",
   "execution_count": 286,
   "metadata": {
    "collapsed": false
   },
   "outputs": [
    {
     "name": "stdout",
     "output_type": "stream",
     "text": [
      "Tsys =  486539.621266\n",
      "Sensitivity Omega_eff =  1.08375\n",
      "effective number of baselines =  31.6227766017\n",
      "analytic \\Delta^2(k=0.3) =  8513.70570412\n",
      "noise realization \\Delta^2(k=0.3) =  10051.0414384\n"
     ]
    },
    {
     "data": {
      "image/png": "[encoded data removed]",
      "text/plain": [
       "<matplotlib.figure.Figure at 0x1143c03d0>"
      ]
     },
     "metadata": {},
     "output_type": "display_data"
    }
   ],
   "source": [
    "#plot a comparison of the noise realization and the analytic with parameters set for FRF\n",
    "S_FRF = Sense()\n",
    "#S_FRF.Tsys = 551e3  #set to match 21cmsense exactly \n",
    "#S.Tsys = 505e3 #Ali et al, at 164MHz\n",
    "S_FRF.Tsys = (200 + 180.*(150./180)**-2.55)*1e3 #set to match noise realization\n",
    "print \"Tsys = \",S_FRF.Tsys\n",
    "\n",
    "S_FRF.t_int = 3414 # python ~/scripts/frf_diagnose.py -C psa6240_v003 --seps=0,1 -pxx; returns T_eff = 3414s (NEBW)\n",
    "#S_FRF.Ndays = 65\n",
    "S_FRF.Nlsthours = 8.24\n",
    "S_FRF.Ndays = 32\n",
    "#S_FRF.Nlstbins = 1\n",
    "S_FRF.Nbls = 51\n",
    "S_FRF.Nseps = 1\n",
    "S_FRF.Omega_eff = 0.51**2/0.24 #use the FRF weighted beams listed in T1 of Parsons etal beam sculpting paper\n",
    "print \"Sensitivity Omega_eff = \",S_FRF.Omega_eff\n",
    "S_FRF.calc()\n",
    "print \"effective number of baselines = \",S_FRF.bl_eff\n",
    "#S_FRF.P_N *= np.sqrt(2) #change Nreal in the denominator to sqrt2\n",
    "print \"analytic \\Delta^2(k=0.3) = \",S_FRF.Delta2_N(noise_realization_k[6])*2 #2sigma\n",
    "print \"noise realization \\Delta^2(k=0.3) = \",Delta2_noise_realization[6] #85% is roughly equivalent to 2sigma\n",
    "semilogy(noise_realization_k,np.abs(Delta2_noise_realization),label='noise realization')\n",
    "semilogy(noise_realization_k,S_FRF.Delta2_N(noise_realization_k)*2,label='analytic')\n",
    "legend(loc='best')\n",
    "ylim(1e2,1e5)\n",
    "grid()"
   ]
  },
  {
   "cell_type": "code",
   "execution_count": null,
   "metadata": {
    "collapsed": true
   },
   "outputs": [],
   "source": []
  }
 ],
 "metadata": {
  "kernelspec": {
   "display_name": "Python 2",
   "language": "python",
   "name": "python2"
  },
  "language_info": {
   "codemirror_mode": {
    "name": "ipython",
    "version": 2
   },
   "file_extension": ".py",
   "mimetype": "text/x-python",
   "name": "python",
   "nbconvert_exporter": "python",
   "pygments_lexer": "ipython2",
   "version": "2.7.12"
  }
 },
 "nbformat": 4,
 "nbformat_minor": 0
}
